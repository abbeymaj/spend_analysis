{
 "cells": [
  {
   "cell_type": "code",
   "execution_count": 23,
   "metadata": {},
   "outputs": [],
   "source": [
    "# Importing packages\n",
    "import numpy as np\n",
    "import pandas as pd\n",
    "pd.set_option('display.max_rows', 50)\n",
    "pd.set_option('display.max_columns', 50)\n",
    "import sqlite3"
   ]
  },
  {
   "cell_type": "code",
   "execution_count": 2,
   "metadata": {},
   "outputs": [],
   "source": [
    "# Setting the path to the dataset\n",
    "path_22 = 'D:/tableau/spend analysis/data/2022_transaction_download.csv'\n",
    "path_23 = 'D:/tableau/spend analysis/data/2023_ytd_transaction_download.csv'"
   ]
  },
  {
   "cell_type": "code",
   "execution_count": 3,
   "metadata": {},
   "outputs": [],
   "source": [
    "# Reading both datasets\n",
    "df22 = pd.read_csv(path_22)\n",
    "df23 = pd.read_csv(path_23)"
   ]
  },
  {
   "cell_type": "code",
   "execution_count": 4,
   "metadata": {},
   "outputs": [],
   "source": [
    "# Merging both datasets\n",
    "merged = pd.concat([df22, df23], axis=0)"
   ]
  },
  {
   "cell_type": "code",
   "execution_count": 5,
   "metadata": {},
   "outputs": [
    {
     "data": {
      "text/html": [
       "<div>\n",
       "<style scoped>\n",
       "    .dataframe tbody tr th:only-of-type {\n",
       "        vertical-align: middle;\n",
       "    }\n",
       "\n",
       "    .dataframe tbody tr th {\n",
       "        vertical-align: top;\n",
       "    }\n",
       "\n",
       "    .dataframe thead th {\n",
       "        text-align: right;\n",
       "    }\n",
       "</style>\n",
       "<table border=\"1\" class=\"dataframe\">\n",
       "  <thead>\n",
       "    <tr style=\"text-align: right;\">\n",
       "      <th></th>\n",
       "      <th>Transaction Date</th>\n",
       "      <th>Posted Date</th>\n",
       "      <th>Card No.</th>\n",
       "      <th>Description</th>\n",
       "      <th>Category</th>\n",
       "      <th>Debit</th>\n",
       "      <th>Credit</th>\n",
       "    </tr>\n",
       "  </thead>\n",
       "  <tbody>\n",
       "    <tr>\n",
       "      <th>0</th>\n",
       "      <td>2022-12-30</td>\n",
       "      <td>2022-12-31</td>\n",
       "      <td>5296</td>\n",
       "      <td>DOMINO'S 5593</td>\n",
       "      <td>Dining</td>\n",
       "      <td>40.80</td>\n",
       "      <td>NaN</td>\n",
       "    </tr>\n",
       "    <tr>\n",
       "      <th>1</th>\n",
       "      <td>2022-12-29</td>\n",
       "      <td>2022-12-29</td>\n",
       "      <td>5296</td>\n",
       "      <td>ELECTRONIC PAYMENT</td>\n",
       "      <td>Payment/Credit</td>\n",
       "      <td>NaN</td>\n",
       "      <td>39.17</td>\n",
       "    </tr>\n",
       "    <tr>\n",
       "      <th>2</th>\n",
       "      <td>2022-12-28</td>\n",
       "      <td>2022-12-29</td>\n",
       "      <td>5296</td>\n",
       "      <td>HARRIS TEETER #0205</td>\n",
       "      <td>Merchandise</td>\n",
       "      <td>39.17</td>\n",
       "      <td>NaN</td>\n",
       "    </tr>\n",
       "    <tr>\n",
       "      <th>3</th>\n",
       "      <td>2022-12-28</td>\n",
       "      <td>2022-12-28</td>\n",
       "      <td>5296</td>\n",
       "      <td>ELECTRONIC PAYMENT</td>\n",
       "      <td>Payment/Credit</td>\n",
       "      <td>NaN</td>\n",
       "      <td>248.53</td>\n",
       "    </tr>\n",
       "    <tr>\n",
       "      <th>4</th>\n",
       "      <td>2022-12-23</td>\n",
       "      <td>2022-12-24</td>\n",
       "      <td>5296</td>\n",
       "      <td>HARRIS TEETER #0205</td>\n",
       "      <td>Merchandise</td>\n",
       "      <td>212.18</td>\n",
       "      <td>NaN</td>\n",
       "    </tr>\n",
       "  </tbody>\n",
       "</table>\n",
       "</div>"
      ],
      "text/plain": [
       "  Transaction Date Posted Date  Card No.          Description        Category  \\\n",
       "0       2022-12-30  2022-12-31      5296        DOMINO'S 5593          Dining   \n",
       "1       2022-12-29  2022-12-29      5296   ELECTRONIC PAYMENT  Payment/Credit   \n",
       "2       2022-12-28  2022-12-29      5296  HARRIS TEETER #0205     Merchandise   \n",
       "3       2022-12-28  2022-12-28      5296   ELECTRONIC PAYMENT  Payment/Credit   \n",
       "4       2022-12-23  2022-12-24      5296  HARRIS TEETER #0205     Merchandise   \n",
       "\n",
       "    Debit  Credit  \n",
       "0   40.80     NaN  \n",
       "1     NaN   39.17  \n",
       "2   39.17     NaN  \n",
       "3     NaN  248.53  \n",
       "4  212.18     NaN  "
      ]
     },
     "execution_count": 5,
     "metadata": {},
     "output_type": "execute_result"
    }
   ],
   "source": [
    "# Taking a look at the dataset\n",
    "merged.head()"
   ]
  },
  {
   "cell_type": "code",
   "execution_count": 6,
   "metadata": {},
   "outputs": [
    {
     "name": "stderr",
     "output_type": "stream",
     "text": [
      "C:\\Users\\abhij\\AppData\\Local\\Temp\\ipykernel_16568\\2696844790.py:2: DeprecationWarning: In a future version, `df.iloc[:, i] = newvals` will attempt to set the values inplace instead of always setting a new array. To retain the old behavior, use either `df[df.columns[i]] = newvals` or, if columns are non-unique, `df.isetitem(i, newvals)`\n",
      "  merged.loc[:, 'Transaction Date'] = pd.to_datetime(merged['Transaction Date'])\n",
      "C:\\Users\\abhij\\AppData\\Local\\Temp\\ipykernel_16568\\2696844790.py:3: DeprecationWarning: In a future version, `df.iloc[:, i] = newvals` will attempt to set the values inplace instead of always setting a new array. To retain the old behavior, use either `df[df.columns[i]] = newvals` or, if columns are non-unique, `df.isetitem(i, newvals)`\n",
      "  merged.loc[:, 'Posted Date'] = pd.to_datetime(merged['Posted Date'])\n"
     ]
    }
   ],
   "source": [
    "# Converting both dates to datetime format\n",
    "merged.loc[:, 'Transaction Date'] = pd.to_datetime(merged['Transaction Date'])\n",
    "merged.loc[:, 'Posted Date'] = pd.to_datetime(merged['Posted Date'])"
   ]
  },
  {
   "cell_type": "code",
   "execution_count": 7,
   "metadata": {},
   "outputs": [],
   "source": [
    "# Changing the datatypes of remaining columns\n",
    "#merged.loc[:, 'Card No.'] = merged['Card No.'].astype('int32')\n",
    "#merged.loc[:, 'Category'] = merged['Card No.'].astype('category')\n",
    "#merged.loc[:, 'Debit'] = merged['Debit'].astype('float32')\n",
    "#merged.loc[:, 'Credit'] = merged['Credit'].astype('float32')"
   ]
  },
  {
   "cell_type": "code",
   "execution_count": 8,
   "metadata": {},
   "outputs": [
    {
     "data": {
      "text/html": [
       "<div>\n",
       "<style scoped>\n",
       "    .dataframe tbody tr th:only-of-type {\n",
       "        vertical-align: middle;\n",
       "    }\n",
       "\n",
       "    .dataframe tbody tr th {\n",
       "        vertical-align: top;\n",
       "    }\n",
       "\n",
       "    .dataframe thead th {\n",
       "        text-align: right;\n",
       "    }\n",
       "</style>\n",
       "<table border=\"1\" class=\"dataframe\">\n",
       "  <thead>\n",
       "    <tr style=\"text-align: right;\">\n",
       "      <th></th>\n",
       "      <th>Transaction Date</th>\n",
       "      <th>Posted Date</th>\n",
       "      <th>Card No.</th>\n",
       "      <th>Description</th>\n",
       "      <th>Category</th>\n",
       "      <th>Debit</th>\n",
       "      <th>Credit</th>\n",
       "    </tr>\n",
       "  </thead>\n",
       "  <tbody>\n",
       "    <tr>\n",
       "      <th>261</th>\n",
       "      <td>2021-12-31</td>\n",
       "      <td>2022-01-03</td>\n",
       "      <td>5296</td>\n",
       "      <td>PATEL BROS</td>\n",
       "      <td>Merchandise</td>\n",
       "      <td>237.82</td>\n",
       "      <td>NaN</td>\n",
       "    </tr>\n",
       "    <tr>\n",
       "      <th>262</th>\n",
       "      <td>2021-12-31</td>\n",
       "      <td>2022-01-03</td>\n",
       "      <td>5296</td>\n",
       "      <td>EXXONMOBIL    48118087</td>\n",
       "      <td>Gas/Automotive</td>\n",
       "      <td>22.59</td>\n",
       "      <td>NaN</td>\n",
       "    </tr>\n",
       "    <tr>\n",
       "      <th>260</th>\n",
       "      <td>2022-01-02</td>\n",
       "      <td>2022-01-03</td>\n",
       "      <td>5296</td>\n",
       "      <td>CVS/PHARMACY #07089</td>\n",
       "      <td>Health Care</td>\n",
       "      <td>11.00</td>\n",
       "      <td>NaN</td>\n",
       "    </tr>\n",
       "    <tr>\n",
       "      <th>258</th>\n",
       "      <td>2022-01-04</td>\n",
       "      <td>2022-01-04</td>\n",
       "      <td>5296</td>\n",
       "      <td>ELECTRONIC PAYMENT</td>\n",
       "      <td>Payment/Credit</td>\n",
       "      <td>NaN</td>\n",
       "      <td>33.59</td>\n",
       "    </tr>\n",
       "    <tr>\n",
       "      <th>259</th>\n",
       "      <td>2022-01-04</td>\n",
       "      <td>2022-01-04</td>\n",
       "      <td>5296</td>\n",
       "      <td>ELECTRONIC PAYMENT</td>\n",
       "      <td>Payment/Credit</td>\n",
       "      <td>NaN</td>\n",
       "      <td>357.82</td>\n",
       "    </tr>\n",
       "  </tbody>\n",
       "</table>\n",
       "</div>"
      ],
      "text/plain": [
       "    Transaction Date Posted Date  Card No.             Description  \\\n",
       "261       2021-12-31  2022-01-03      5296              PATEL BROS   \n",
       "262       2021-12-31  2022-01-03      5296  EXXONMOBIL    48118087   \n",
       "260       2022-01-02  2022-01-03      5296     CVS/PHARMACY #07089   \n",
       "258       2022-01-04  2022-01-04      5296      ELECTRONIC PAYMENT   \n",
       "259       2022-01-04  2022-01-04      5296      ELECTRONIC PAYMENT   \n",
       "\n",
       "           Category   Debit  Credit  \n",
       "261     Merchandise  237.82     NaN  \n",
       "262  Gas/Automotive   22.59     NaN  \n",
       "260     Health Care   11.00     NaN  \n",
       "258  Payment/Credit     NaN   33.59  \n",
       "259  Payment/Credit     NaN  357.82  "
      ]
     },
     "execution_count": 8,
     "metadata": {},
     "output_type": "execute_result"
    }
   ],
   "source": [
    "# Sorting the dataset by Transaction Date\n",
    "merged.sort_values(by='Transaction Date', ascending=True).head()"
   ]
  },
  {
   "cell_type": "code",
   "execution_count": 9,
   "metadata": {},
   "outputs": [],
   "source": [
    "# Changing the category for Grocery stores to \"Grocery\"\n",
    "for name in ['HARRIS TEETER #0205', 'PATEL BROS', 'THE FRESH MARKET 219']:\n",
    "    merged.loc[merged.loc[:, 'Description'] == name, 'Category'] = 'Grocery'"
   ]
  },
  {
   "cell_type": "code",
   "execution_count": 10,
   "metadata": {},
   "outputs": [],
   "source": [
    "# Combining Other with Other Services\n",
    "merged.loc[merged.loc[:, 'Description'] == 'UWAA', 'Category'] = 'Other Services'"
   ]
  },
  {
   "cell_type": "code",
   "execution_count": 16,
   "metadata": {},
   "outputs": [],
   "source": [
    "# Creating day as a feature\n",
    "merged.loc[:, 'Day'] = merged['Transaction Date'].dt.day_name()"
   ]
  },
  {
   "cell_type": "code",
   "execution_count": 18,
   "metadata": {},
   "outputs": [],
   "source": [
    "# Creating month as a feature\n",
    "merged.loc[:, 'Month'] = merged['Transaction Date'].dt.month_name()"
   ]
  },
  {
   "cell_type": "code",
   "execution_count": 20,
   "metadata": {},
   "outputs": [],
   "source": [
    "# Creating year as a feature\n",
    "merged.loc[:, 'Year'] = merged['Transaction Date'].dt.year"
   ]
  },
  {
   "cell_type": "code",
   "execution_count": 24,
   "metadata": {},
   "outputs": [],
   "source": [
    "# Creating a feature for quarter\n",
    "condList = [\n",
    "    (merged['Month'].isin(['January', 'February', 'March'])),\n",
    "    (merged['Month'].isin(['April', 'May', 'June'])),\n",
    "    (merged['Month'].isin(['July', 'August', 'September'])),\n",
    "    (merged['Month'].isin(['October', 'November', 'December'])),\n",
    "]\n",
    "\n",
    "choiceList = ['Q1', 'Q2', 'Q3', 'Q4']\n",
    "\n",
    "merged.loc[:, 'Quarter'] = np.select(condList, choiceList)"
   ]
  },
  {
   "cell_type": "code",
   "execution_count": 26,
   "metadata": {},
   "outputs": [
    {
     "data": {
      "text/plain": [
       "335"
      ]
     },
     "execution_count": 26,
     "metadata": {},
     "output_type": "execute_result"
    }
   ],
   "source": [
    "# Creating a SQLite connector\n",
    "#conn = sqlite3.connect('transactions.db')\n",
    "#merged.to_sql('lnd_spend', conn, if_exists='append', index=False)"
   ]
  },
  {
   "cell_type": "code",
   "execution_count": 28,
   "metadata": {},
   "outputs": [],
   "source": [
    "toSave = merged.loc[merged.loc[:, 'Category'] != 'Payment/Credit', :]"
   ]
  },
  {
   "cell_type": "code",
   "execution_count": 31,
   "metadata": {},
   "outputs": [],
   "source": [
    "save = toSave[['Transaction Date', 'Description', 'Category', 'Debit', 'Day', 'Month', 'Year', 'Quarter']]"
   ]
  },
  {
   "cell_type": "code",
   "execution_count": 32,
   "metadata": {},
   "outputs": [],
   "source": [
    "save.to_csv('spend_analysis.csv', index=False)"
   ]
  },
  {
   "cell_type": "code",
   "execution_count": null,
   "metadata": {},
   "outputs": [],
   "source": []
  }
 ],
 "metadata": {
  "kernelspec": {
   "display_name": "Python 3 (ipykernel)",
   "language": "python",
   "name": "python3"
  },
  "language_info": {
   "codemirror_mode": {
    "name": "ipython",
    "version": 3
   },
   "file_extension": ".py",
   "mimetype": "text/x-python",
   "name": "python",
   "nbconvert_exporter": "python",
   "pygments_lexer": "ipython3",
   "version": "3.11.4"
  }
 },
 "nbformat": 4,
 "nbformat_minor": 2
}
